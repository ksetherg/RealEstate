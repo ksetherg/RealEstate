{
 "cells": [
  {
   "cell_type": "code",
   "execution_count": null,
   "metadata": {},
   "outputs": [],
   "source": [
    "# https://github.com/let-robots-reign/real_estate_parsing\n",
    "# https://github.com/OlegYurchik/cian  \n",
    "# https://github.com/lenarsaitov/cianparser\n",
    "    \n"
   ]
  },
  {
   "cell_type": "code",
   "execution_count": null,
   "metadata": {},
   "outputs": [],
   "source": [
    "%load_ext autoreload\n",
    "%autoreload 2\n",
    "\n",
    "\n",
    "import pandas as pd\n",
    "from Utils import *\n"
   ]
  },
  {
   "cell_type": "code",
   "execution_count": null,
   "metadata": {},
   "outputs": [],
   "source": [
    "from selenium import webdriver\n",
    "from webdriver_manager.chrome import ChromeDriverManager"
   ]
  },
  {
   "cell_type": "code",
   "execution_count": null,
   "metadata": {},
   "outputs": [],
   "source": [
    "\n"
   ]
  },
  {
   "cell_type": "code",
   "execution_count": null,
   "metadata": {},
   "outputs": [],
   "source": [
    "# url = 'https://www.cian.ru/cat.php?deal_type=rent&engine_version=2&is_by_homeowner=1&offer_type=flat&region=1&room1=1&room2=1&room3=1&room7=1&room9=1&type=4'\n",
    "# url = 'https://www.cian.ru/cat.php?deal_type=rent&engine_version=2&offer_type=flat&region=1&room1=1&room2=1&room3=1&room9=1&type=4'\n",
    "url_base = 'https://www.cian.ru/cat.php?deal_type=rent&engine_version=2&offer_type=flat'\n",
    "\n"
   ]
  },
  {
   "cell_type": "code",
   "execution_count": null,
   "metadata": {
    "scrolled": true
   },
   "outputs": [],
   "source": [
    "%%time\n",
    "full_df = scrap_cian(url_base, 2, 380)\n",
    "full_df.to_csv('flats_dump.csv')"
   ]
  },
  {
   "cell_type": "code",
   "execution_count": null,
   "metadata": {},
   "outputs": [],
   "source": []
  },
  {
   "cell_type": "code",
   "execution_count": null,
   "metadata": {},
   "outputs": [],
   "source": []
  },
  {
   "cell_type": "code",
   "execution_count": null,
   "metadata": {},
   "outputs": [],
   "source": [
    "full_df.shape"
   ]
  },
  {
   "cell_type": "code",
   "execution_count": null,
   "metadata": {
    "scrolled": false
   },
   "outputs": [],
   "source": [
    "full_df.drop_duplicates().shape"
   ]
  },
  {
   "cell_type": "code",
   "execution_count": null,
   "metadata": {},
   "outputs": [],
   "source": [
    "full_df.groupby('rooms')['price'].mean()"
   ]
  },
  {
   "cell_type": "code",
   "execution_count": null,
   "metadata": {},
   "outputs": [],
   "source": [
    "full_df.groupby(['zone', 'rooms'])['price'].median().sort_values()"
   ]
  },
  {
   "cell_type": "code",
   "execution_count": null,
   "metadata": {},
   "outputs": [],
   "source": []
  },
  {
   "cell_type": "code",
   "execution_count": null,
   "metadata": {},
   "outputs": [],
   "source": []
  },
  {
   "cell_type": "code",
   "execution_count": null,
   "metadata": {},
   "outputs": [],
   "source": []
  },
  {
   "cell_type": "code",
   "execution_count": null,
   "metadata": {},
   "outputs": [],
   "source": []
  },
  {
   "cell_type": "code",
   "execution_count": null,
   "metadata": {},
   "outputs": [],
   "source": [
    "links = offer.find_all('a')"
   ]
  },
  {
   "cell_type": "code",
   "execution_count": null,
   "metadata": {},
   "outputs": [],
   "source": [
    "flats_dict = {}\n",
    "for i, a in enumerate(links):\n",
    "    if ('https://www.cian.ru/rent/flat' in a['href']):\n",
    "        if '/cat.php?' not in a['href']:\n",
    "            print(a['href'])\n",
    "            flats_dict[a['href']] = i\n",
    "            print()"
   ]
  },
  {
   "cell_type": "code",
   "execution_count": null,
   "metadata": {
    "scrolled": true
   },
   "outputs": [],
   "source": [
    "offer"
   ]
  },
  {
   "cell_type": "code",
   "execution_count": null,
   "metadata": {},
   "outputs": [],
   "source": [
    "url = 'https://www.cian.ru/rent/flat/263160487/'\n",
    "soup = get_html_page(url)"
   ]
  },
  {
   "cell_type": "code",
   "execution_count": null,
   "metadata": {
    "scrolled": false
   },
   "outputs": [],
   "source": [
    "soup.find_all('div', attrs={'class': 'fotorama__img'})"
   ]
  },
  {
   "cell_type": "code",
   "execution_count": null,
   "metadata": {},
   "outputs": [],
   "source": [
    "soup.find_all('content')"
   ]
  },
  {
   "cell_type": "code",
   "execution_count": null,
   "metadata": {
    "scrolled": true
   },
   "outputs": [],
   "source": [
    "soup"
   ]
  },
  {
   "cell_type": "code",
   "execution_count": null,
   "metadata": {},
   "outputs": [],
   "source": []
  },
  {
   "cell_type": "code",
   "execution_count": null,
   "metadata": {},
   "outputs": [],
   "source": []
  },
  {
   "cell_type": "code",
   "execution_count": null,
   "metadata": {},
   "outputs": [],
   "source": [
    "url = 'https://www.cian.ru/rent/flat/263424762/'\n",
    "options = webdriver.ChromeOptions()\n",
    "options.add_argument('headless')\n",
    "driver = webdriver.Chrome(chrome_options=options)\n",
    "driver.get(url)\n"
   ]
  },
  {
   "cell_type": "code",
   "execution_count": null,
   "metadata": {},
   "outputs": [],
   "source": [
    "driver.find_elements_by_name('a')"
   ]
  },
  {
   "cell_type": "code",
   "execution_count": null,
   "metadata": {},
   "outputs": [],
   "source": []
  },
  {
   "cell_type": "code",
   "execution_count": null,
   "metadata": {},
   "outputs": [],
   "source": [
    "images_list = driver.find_elements_by_class_name(\"fotorama__img\")"
   ]
  },
  {
   "cell_type": "code",
   "execution_count": null,
   "metadata": {},
   "outputs": [],
   "source": [
    "images_list"
   ]
  },
  {
   "cell_type": "code",
   "execution_count": null,
   "metadata": {},
   "outputs": [],
   "source": [
    "images_links = [x.get_attribute(\"src\") for x in images_list if \"-2.\" in x.get_attribute(\"src\")]"
   ]
  },
  {
   "cell_type": "code",
   "execution_count": null,
   "metadata": {},
   "outputs": [],
   "source": [
    "images = []\n",
    "for image in images_links:\n",
    "    link = image.replace(\"-2.\", \"-1.\")\n",
    "    images.append(link)"
   ]
  },
  {
   "cell_type": "code",
   "execution_count": null,
   "metadata": {},
   "outputs": [],
   "source": [
    "images"
   ]
  },
  {
   "cell_type": "code",
   "execution_count": null,
   "metadata": {},
   "outputs": [],
   "source": []
  },
  {
   "cell_type": "code",
   "execution_count": null,
   "metadata": {},
   "outputs": [],
   "source": []
  },
  {
   "cell_type": "code",
   "execution_count": null,
   "metadata": {},
   "outputs": [],
   "source": []
  },
  {
   "cell_type": "code",
   "execution_count": null,
   "metadata": {},
   "outputs": [],
   "source": [
    "import cv2\n",
    "import numpy as np\n",
    "from urllib.request import urlopen\n",
    "from matplotlib import pyplot as plt\n",
    "\n",
    "def pseudo_download_image(url):\n",
    "    print(f'[INFO] Downloading {url}')\n",
    "    resp = urlopen(url)\n",
    "    image = np.asarray(bytearray(resp.read()), dtype=\"uint8\")\n",
    "    image = cv2.imdecode(image, cv2.IMREAD_COLOR)\n",
    "\n",
    "    return image\n"
   ]
  },
  {
   "cell_type": "code",
   "execution_count": null,
   "metadata": {},
   "outputs": [],
   "source": [
    "img = pseudo_download_image('https://cdn-p.cian.site/images/57/333/411/kvartira-moskva-1y-krasnogvardeyskiy-proezd-1143337524-2.jpg')"
   ]
  },
  {
   "cell_type": "code",
   "execution_count": null,
   "metadata": {},
   "outputs": [],
   "source": []
  },
  {
   "cell_type": "code",
   "execution_count": null,
   "metadata": {},
   "outputs": [],
   "source": []
  },
  {
   "cell_type": "code",
   "execution_count": null,
   "metadata": {},
   "outputs": [],
   "source": []
  },
  {
   "cell_type": "code",
   "execution_count": null,
   "metadata": {},
   "outputs": [],
   "source": []
  },
  {
   "cell_type": "code",
   "execution_count": null,
   "metadata": {},
   "outputs": [],
   "source": []
  },
  {
   "cell_type": "code",
   "execution_count": null,
   "metadata": {},
   "outputs": [],
   "source": []
  },
  {
   "cell_type": "code",
   "execution_count": null,
   "metadata": {},
   "outputs": [],
   "source": []
  },
  {
   "cell_type": "code",
   "execution_count": null,
   "metadata": {},
   "outputs": [],
   "source": []
  },
  {
   "cell_type": "code",
   "execution_count": null,
   "metadata": {},
   "outputs": [],
   "source": []
  },
  {
   "cell_type": "code",
   "execution_count": null,
   "metadata": {},
   "outputs": [],
   "source": []
  },
  {
   "cell_type": "code",
   "execution_count": null,
   "metadata": {},
   "outputs": [],
   "source": []
  },
  {
   "cell_type": "code",
   "execution_count": null,
   "metadata": {},
   "outputs": [],
   "source": []
  },
  {
   "cell_type": "code",
   "execution_count": null,
   "metadata": {},
   "outputs": [],
   "source": [
    "\n",
    "import asyncio\n",
    "import yarl\n",
    "from typing import NamedTuple, Sequence, Optional\n",
    "\n",
    "import aiohttp\n",
    "    \n",
    "import enum\n"
   ]
  },
  {
   "cell_type": "code",
   "execution_count": null,
   "metadata": {},
   "outputs": [],
   "source": [
    "import nest_asyncio\n",
    "nest_asyncio.apply()"
   ]
  },
  {
   "cell_type": "code",
   "execution_count": null,
   "metadata": {},
   "outputs": [],
   "source": [
    "# class CianException(Exception):\n",
    "#     \"\"\"Base class for exceptions\"\"\"\n",
    "\n",
    "\n",
    "# class CianStatusException(CianException):\n",
    "#     \"\"\"Incorrect status in response from cian server\"\"\"\n",
    "\n",
    "#     def __init__(self, status):\n",
    "#         super().__init__(f\"Status in response from cian is not 'ok'. Status: {status}\")\n",
    "\n",
    "\n",
    "\n",
    "class Region(enum.Enum):\n",
    "    MOSCOW = 1\n",
    "    SPB = 2\n",
    "\n",
    "\n",
    "class AdType(enum.Enum):\n",
    "    FLAT_SALE = \"flatsale\"\n",
    "    HOME_SALE = \"suburbansale\"\n",
    "    FLAT_RENT = \"flatrent\"\n",
    "    HOME_RENT = \"suburbanrent\"\n",
    "    COMMERCIAL_SALE = \"commercialsale\"\n",
    "    COMMERCIAL_RENT = \"commercialrent\"\n",
    "\n",
    "\n",
    "class Room(enum.Enum):\n",
    "    ROOM = 0\n",
    "    ONE_ROOMED = 1\n",
    "    TWO_ROOMED = 2\n",
    "    THREE_ROOMED = 3\n",
    "    FOUR_ROOMED = 4\n",
    "    FIVE_ROOMED = 5\n",
    "    SIX_ROOMED = 6\n",
    "    FREE_LAYOUT = 7\n",
    "    PART_FLAT = 8\n",
    "    STUDIO = 9\n",
    "\n",
    "\n",
    "class BuildingStatus(enum.Enum):\n",
    "    NEW = 1\n",
    "    OLD = 2\n",
    "\n",
    "\n",
    "class ObjectType(enum.Enum):\n",
    "    HOUSE = 1\n",
    "    HOUSE_PART = 2\n",
    "    AREA = 3\n",
    "    TOWNHOUSE = 4\n",
    "\n",
    "\n",
    "class Advertiser(enum.Enum):\n",
    "    DEVELOPER = 1\n",
    "    OWNER_AND_AGENT = 2\n",
    "    \n",
    "    \n",
    "class CianClient:\n",
    "    API_URL = yarl.URL(\"https://api.cian.ru/search-offers/v2/search-offers-desktop/\")\n",
    "\n",
    "    def __init__(self):\n",
    "        self._session = aiohttp.ClientSession()\n",
    "        self._loop = asyncio.get_event_loop()\n",
    "\n",
    "    def __del__(self):\n",
    "        self._loop.run_until_complete(self._session.close())\n",
    "        self._loop.close()\n",
    "\n",
    "    async def a_request(self, data: dict):\n",
    "        request_args = {\n",
    "            \"url\": self.API_URL,\n",
    "            \"json\": {\"jsonQuery\": data},\n",
    "        }\n",
    "        async with self._session.post(**request_args) as response:\n",
    "            payload = await response.json()\n",
    "            status = payload[\"status\"]\n",
    "            if status != \"ok\":\n",
    "                raise CianStatusException(status)\n",
    "            return payload[\"data\"]\n",
    "\n",
    "    def request(self, data: dict):\n",
    "        return self._loop.run_until_complete(self.a_request(data=data))\n",
    "\n",
    "    def search(self, *args, **kwargs):\n",
    "        return Search(self, *args, **kwargs)\n",
    "    \n",
    "\n",
    "\n",
    "class Search:\n",
    "    def __init__(\n",
    "            self,\n",
    "            client: CianClient,\n",
    "            region: Region,\n",
    "            ad_type: AdType,\n",
    "            rooms: Sequence[Room] = (),\n",
    "            building_status: Optional[BuildingStatus] = None,\n",
    "            object_types: Sequence[ObjectType] = (),\n",
    "            advertiser: Optional[Advertiser] = None,\n",
    "    ):\n",
    "        self._client = client\n",
    "        self._loop = asyncio.get_event_loop()\n",
    "        self._cache_results = []\n",
    "        self._results_count = None\n",
    "\n",
    "        self.region = region\n",
    "        self.ad_type = ad_type\n",
    "        self.rooms = rooms\n",
    "        self.building_status = building_status\n",
    "        self.object_types = object_types\n",
    "        self.advertiser = advertiser\n",
    "\n",
    "        self.page = 0\n",
    "\n",
    "    def __len__(self):\n",
    "        return self._results_count\n",
    "\n",
    "    async def __aiter__(self):\n",
    "        return self\n",
    "\n",
    "    def __iter__(self):\n",
    "        return self\n",
    "\n",
    "    async def __anext__(self):\n",
    "        if not self._cache_results:\n",
    "            self.page += 1\n",
    "            request_data = self._get_request_data()\n",
    "            response_data = await self._client.a_request(request_data)\n",
    "            self._results_count = response_data[\"offerCount\"] \n",
    "            self._cache_results = list(map(self._get_result, response_data[\"offersSerialized\"]))\n",
    "\n",
    "        return self._cache_results.pop(0)\n",
    "\n",
    "    def __next__(self):\n",
    "        return self._loop.run_until_complete(self.__anext__())\n",
    "\n",
    "    @staticmethod\n",
    "    def _get_result(data):\n",
    "        return data\n",
    "\n",
    "    def _get_request_data(self):\n",
    "        data = {\n",
    "            \"_type\": self.ad_type.value,\n",
    "            \"engine_version\": {\"type\": \"term\", \"value\": 2},\n",
    "            \"page\": {\"type\": \"term\", \"value\": self.page},\n",
    "            \"region\": {\"types\": \"term\", \"value\": [self.region.value]},\n",
    "        }\n",
    "        if self.rooms:\n",
    "            data[\"room\"] = {\n",
    "                \"type\": \"terms\",\n",
    "                \"value\": [room.value for room in self.rooms],\n",
    "            }\n",
    "        if self.building_status:\n",
    "            data[\"building_status\"] = {\"type\": \"term\", \"value\": self.building_status.value}\n",
    "            \n",
    "        if self.object_types:\n",
    "            data[\"object_type\"] = {\n",
    "                \"type\": \"terms\",\n",
    "                \"value\": [object_type.value for object_type in self.object_types],\n",
    "            }\n",
    "        if self.advertiser:\n",
    "            data[\"suburban_offer_filter\"] = {\"type\": \"term\", \"value\": self.advertiser.value}\n",
    "\n",
    "        return data\n"
   ]
  },
  {
   "cell_type": "code",
   "execution_count": null,
   "metadata": {
    "scrolled": false
   },
   "outputs": [],
   "source": [
    "cian_client = CianClient()\n",
    "\n",
    "for offer in cian_client.search(region=Region.MOSCOW, ad_type=AdType.FLAT_RENT):\n",
    "    print(offer)\n",
    "    break"
   ]
  },
  {
   "cell_type": "code",
   "execution_count": null,
   "metadata": {},
   "outputs": [],
   "source": [
    "offer.keys()\n"
   ]
  },
  {
   "cell_type": "code",
   "execution_count": null,
   "metadata": {},
   "outputs": [],
   "source": [
    "\n"
   ]
  }
 ],
 "metadata": {
  "kernelspec": {
   "display_name": "Python 3",
   "language": "python",
   "name": "python3"
  },
  "language_info": {
   "codemirror_mode": {
    "name": "ipython",
    "version": 3
   },
   "file_extension": ".py",
   "mimetype": "text/x-python",
   "name": "python",
   "nbconvert_exporter": "python",
   "pygments_lexer": "ipython3",
   "version": "3.8.10"
  }
 },
 "nbformat": 4,
 "nbformat_minor": 4
}
